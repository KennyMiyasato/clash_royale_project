{
 "cells": [
  {
   "cell_type": "code",
   "execution_count": null,
   "metadata": {},
   "outputs": [],
   "source": [
    "import config\n",
    "import requests\n",
    "import pandas as pd"
   ]
  },
  {
   "cell_type": "code",
   "execution_count": null,
   "metadata": {},
   "outputs": [],
   "source": [
    "api_url = \"https://api.clashroyale.com/v1\"\n",
    "us_location_id = 57000249\n",
    "headers = {\n",
    "    \"content-type\": \"application/json\",\n",
    "    \"Authorization\": f\"Bearer:{config.token}\"\n",
    "}"
   ]
  },
  {
   "cell_type": "code",
   "execution_count": null,
   "metadata": {},
   "outputs": [],
   "source": [
    "def get_list_locations():\n",
    "    response = requests.get(f\"{api_url}/locations\", headers=headers)\n",
    "    json_response = response.json()\n",
    "    return json_response\n",
    "\n",
    "def get_list_locations_rankings_players(location_id):\n",
    "    response = requests.get(f\"{api_url}/locations/{location_id}/rankings/players\", headers=headers)\n",
    "    json_response = response.json()\n",
    "    return json_response\n",
    "\n",
    "def get_top_ranking_player_by_location(location_id):\n",
    "    response = requests.get(f\"{api_url}/locations/{location_id}/rankings/players\", headers=headers)\n",
    "    json_response = response.json()\n",
    "    return json_response['items'][0]\n",
    "\n",
    "def convert_player_tag_hash(player_tag):\n",
    "    player_tag = player_tag.replace('#', '%23')\n",
    "    return player_tag\n",
    "\n",
    "def get_player_info(player_tag):\n",
    "    player_tag = convert_player_tag_hash(player_tag)\n",
    "    response = requests.get(f\"{api_url}/players/{player_tag}\", headers=headers)\n",
    "    json_response = response.json()\n",
    "    return json_response\n",
    "\n",
    "def get_player_battlelog(player_tag):\n",
    "    player_tag = convert_player_tag_hash(player_tag)\n",
    "    response = requests.get(f\"{api_url}/players/{player_tag}/battlelog\", headers=headers)\n",
    "    json_response = response.json()\n",
    "    return json_response\n",
    "\n",
    "def get_list_of_pvp_battles_from_player(player_tag):\n",
    "    player_battlelog = get_player_battlelog(player_tag)\n",
    "    list_of_pvp_battles = []\n",
    "    for battle_type in player_battlelog:\n",
    "        if battle_type['type'] == 'PvP':\n",
    "            list_of_pvp_battles.append(battle_type)\n",
    "    return list_of_pvp_battles\n"
   ]
  },
  {
   "cell_type": "code",
   "execution_count": null,
   "metadata": {},
   "outputs": [],
   "source": [
    "us_top_ranking_player = get_top_ranking_player_by_location(us_location_id)"
   ]
  },
  {
   "cell_type": "code",
   "execution_count": null,
   "metadata": {},
   "outputs": [],
   "source": [
    "player_battlelog = get_player_battlelog(us_top_ranking_player['tag'])"
   ]
  },
  {
   "cell_type": "code",
   "execution_count": null,
   "metadata": {},
   "outputs": [],
   "source": [
    "player_pvp_battlelog = get_list_of_pvp_battles_from_player(us_top_ranking_player['tag'])"
   ]
  },
  {
   "cell_type": "code",
   "execution_count": null,
   "metadata": {},
   "outputs": [],
   "source": [
    "player_pvp_battlelog[0]"
   ]
  },
  {
   "cell_type": "code",
   "execution_count": null,
   "metadata": {},
   "outputs": [],
   "source": [
    "locations = get_list_locations()"
   ]
  },
  {
   "cell_type": "code",
   "execution_count": null,
   "metadata": {},
   "outputs": [],
   "source": [
    "location_ranking_players = get_list_locations_rankings_players(57000249)"
   ]
  },
  {
   "cell_type": "code",
   "execution_count": null,
   "metadata": {},
   "outputs": [],
   "source": [
    "top_ranking_player_us = get_top_ranking_player_by_location(57000249)"
   ]
  },
  {
   "cell_type": "code",
   "execution_count": null,
   "metadata": {},
   "outputs": [],
   "source": [
    "top_ranking_player_us"
   ]
  },
  {
   "cell_type": "code",
   "execution_count": null,
   "metadata": {},
   "outputs": [],
   "source": [
    "get_player_info(top_ranking_player_us)"
   ]
  },
  {
   "cell_type": "code",
   "execution_count": null,
   "metadata": {},
   "outputs": [],
   "source": [
    "locations['items']"
   ]
  },
  {
   "cell_type": "code",
   "execution_count": null,
   "metadata": {},
   "outputs": [],
   "source": [
    "df_locations = pd.DataFrame(locations['items'])\n",
    "df_locations"
   ]
  },
  {
   "cell_type": "code",
   "execution_count": null,
   "metadata": {},
   "outputs": [],
   "source": [
    "df_locations.loc[df_locations['name']=='United States']"
   ]
  },
  {
   "cell_type": "code",
   "execution_count": null,
   "metadata": {},
   "outputs": [],
   "source": [
    "# get_player_info(player_tag)"
   ]
  },
  {
   "cell_type": "code",
   "execution_count": null,
   "metadata": {
    "scrolled": true
   },
   "outputs": [],
   "source": [
    "player_battlelog = get_player_battlelog(player_tag)"
   ]
  },
  {
   "cell_type": "code",
   "execution_count": null,
   "metadata": {},
   "outputs": [],
   "source": [
    "len(player_battlelog)"
   ]
  },
  {
   "cell_type": "code",
   "execution_count": null,
   "metadata": {},
   "outputs": [],
   "source": [
    "for battle in player_battlelog:\n",
    "    if battle['type'] == 'clanWarWarDay':\n",
    "        print(battle)"
   ]
  },
  {
   "cell_type": "code",
   "execution_count": null,
   "metadata": {},
   "outputs": [],
   "source": [
    "df = pd.DataFrame(json_response['items'], index=df['index'])\n",
    "df = df.drop(['index'], axis=1)\n",
    "df"
   ]
  },
  {
   "cell_type": "code",
   "execution_count": null,
   "metadata": {},
   "outputs": [],
   "source": []
  }
 ],
 "metadata": {
  "kernelspec": {
   "display_name": "Python 3",
   "language": "python",
   "name": "python3"
  },
  "language_info": {
   "codemirror_mode": {
    "name": "ipython",
    "version": 3
   },
   "file_extension": ".py",
   "mimetype": "text/x-python",
   "name": "python",
   "nbconvert_exporter": "python",
   "pygments_lexer": "ipython3",
   "version": "3.7.4"
  }
 },
 "nbformat": 4,
 "nbformat_minor": 2
}
